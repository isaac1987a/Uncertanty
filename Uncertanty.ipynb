{
  "nbformat": 4,
  "nbformat_minor": 0,
  "metadata": {
    "colab": {
      "provenance": [],
      "machine_shape": "hm",
      "gpuType": "V28"
    },
    "kernelspec": {
      "name": "python3",
      "display_name": "Python 3"
    },
    "language_info": {
      "name": "python"
    },
    "accelerator": "TPU"
  },
  "cells": [
    {
      "cell_type": "code",
      "execution_count": 2,
      "metadata": {
        "id": "O994AqY0OZxm",
        "outputId": "8544123f-bb39-4220-cf30-4109bbb6dcbf",
        "colab": {
          "base_uri": "https://localhost:8080/"
        }
      },
      "outputs": [
        {
          "output_type": "stream",
          "name": "stdout",
          "text": [
            "Drive already mounted at /content/drive; to attempt to forcibly remount, call drive.mount(\"/content/drive\", force_remount=True).\n"
          ]
        }
      ],
      "source": [
        "from google.colab import drive\n",
        "drive.mount('/content/drive')\n",
        "# Create the .kaggle directory if it doesn't exist\n",
        "!mkdir -p /root/.kaggle\n",
        "\n",
        "# Copy the kaggle.json file from Google Drive to the .kaggle directory\n",
        "!cp /content/drive/My\\ Drive/kaggle.json /root/.kaggle/\n",
        "\n",
        "# Change the permissions of the kaggle.json file to 600\n",
        "!chmod 600 /root/.kaggle/kaggle.json\n"
      ]
    },
    {
      "cell_type": "markdown",
      "source": [
        "# Project Overview\n",
        "The goal of this project is to demonstrate Uncertanty in Deep learning.  I learned about this topic from https://www.osti.gov/servlets/purl/1733262\n",
        "\n",
        "# Uncertanty Overview\n",
        "Uncertanty is a method of showing how confident a ML algoithim is it's predictions.  For instance, in a multiclass model, the model may have .6 for one value, .55 for a second, and .54 for  third.  This could indicate that you model us uncertain but it will always pick the top option.\n",
        "\n",
        "Uncertanty is diffrent from probability as uncertanty can show that the avaliable information is not sufficient to make a competent selection.\n",
        "\n",
        "You can use uncertatny to quantify error margins in prediction algorithims as well.  For instance, knowing uncertanty can indicate if your error margin is 1%, 10%, or 50%.  It can also let you attempt to correct for your error margin.\n",
        "\n",
        "# Project Plan\n",
        "I plan to revisit the Histographic Cancer Detection Kaggle competetion.  I will create very basic CNN to predict the results, and then quantify and demonstrate uncertatny.  After that, I will attempt to correct to minimise uncertatny, and show how uncertanty can be used to quantify error.\n",
        "\n",
        "## ChatGPT/GEMINI Use\n",
        "I will be using ChatGPT in this project to generate code for non-ai model purposes such as data ingest and visualizaiton.\n",
        "\n",
        "## This project was develed and run on Google Colab"
      ],
      "metadata": {
        "id": "zIgOnANBRFQU"
      }
    },
    {
      "cell_type": "code",
      "source": [
        "import kaggle\n",
        "import tensorflow as tf\n",
        "import keras\n",
        "import zipfile\n",
        "import pandas as pd\n",
        "from PIL import Image\n",
        "import matplotlib.pyplot as plt\n",
        "import numpy as np\n",
        "import os\n",
        "import h5py\n",
        "import shutil\n",
        "from sklearn.model_selection import train_test_split\n",
        "from sklearn.metrics import confusion_matrix\n",
        "import seaborn as sns"
      ],
      "metadata": {
        "id": "goVRQWPaQueR"
      },
      "execution_count": 3,
      "outputs": []
    },
    {
      "cell_type": "code",
      "source": [
        "# Download the dataset\n",
        "!kaggle datasets download returnofsputnik/chihuahua-or-muffin\n",
        "\n",
        "#Unzip the dataset\n",
        "#shutil.copy('drive/MyDrive/Uncertanty/muffin-vs-chihuahua-image-classification', '.')\n",
        "with zipfile.ZipFile('chihuahua-or-muffin.zip', 'r') as zip_ref:\n",
        "    zip_ref.extractall()\n"
      ],
      "metadata": {
        "id": "-9EfhV_mZ7oy",
        "colab": {
          "base_uri": "https://localhost:8080/"
        },
        "outputId": "99349303-5dd1-4ba7-fcbf-fdbd5098af87"
      },
      "execution_count": 4,
      "outputs": [
        {
          "output_type": "stream",
          "name": "stdout",
          "text": [
            "Dataset URL: https://www.kaggle.com/datasets/returnofsputnik/chihuahua-or-muffin\n",
            "License(s): unknown\n",
            "chihuahua-or-muffin.zip: Skipping, found more recently modified local copy (use --force to force download)\n"
          ]
        }
      ]
    },
    {
      "cell_type": "code",
      "source": [
        "imagesize = 169\n",
        "def process_files_in_folder(folder_path):\n",
        "  images = []\n",
        "  labels = []\n",
        "  for filename in os.listdir(folder_path):\n",
        "      if filename.endswith('.jpg') or filename.endswith('.jpeg'):\n",
        "        if 'muffin' in filename:\n",
        "          labels.append(1)\n",
        "        else:\n",
        "          labels.append(0)\n",
        "        image = Image.open(os.path.join(folder_path, filename))\n",
        "        image = image.resize((imagesize, imagesize))\n",
        "        images.append(np.array(image))\n",
        "  return pd.DataFrame({'image': images, 'label': labels})\n",
        "train = process_files_in_folder('.')\n"
      ],
      "metadata": {
        "id": "J9LefZ2wp78N"
      },
      "execution_count": 8,
      "outputs": []
    },
    {
      "cell_type": "code",
      "source": [
        "# God I love google code autocomplete\n",
        "# This exists to ingest the files and add them to the list of images\n",
        "def process_files_in_folder(folder_path, label):\n",
        "    processed_files = pd.DataFrame(columns=['image', 'label'])\n",
        "    images = []\n",
        "    labels = []\n",
        "    for filename in os.listdir(folder_path):\n",
        "        if filename.endswith('.jpg'):\n",
        "            labels.append(label)\n",
        "            file_path = os.path.join(folder_path, filename)\n",
        "            print(np.array(Image.open(file_path)).shape)\n",
        "            images.append(np.array(Image.open(file_path)) / 255.0)\n",
        "    processed_files = pd.DataFrame({'image': images, 'label': labels})\n",
        "    return processed_files\n",
        "\n",
        "train = process_files_in_folder('train/chihuahua/', 0)\n",
        "train = pd.concat([train,process_files_in_folder('train/muffin/', 1)])\n",
        "train = pd.concat([train,process_files_in_folder('test/chihuahua/', 0)])\n",
        "train = pd.concat([train,process_files_in_folder('test/muffin/', 1)])\n"
      ],
      "metadata": {
        "id": "otTys-UudIqk",
        "colab": {
          "base_uri": "https://localhost:8080/",
          "height": 352
        },
        "outputId": "45b65c8a-5824-4d48-fd3c-e3973f2334c6"
      },
      "execution_count": 7,
      "outputs": [
        {
          "output_type": "error",
          "ename": "FileNotFoundError",
          "evalue": "[Errno 2] No such file or directory: 'train/chihuahua/'",
          "traceback": [
            "\u001b[0;31m---------------------------------------------------------------------------\u001b[0m",
            "\u001b[0;31mFileNotFoundError\u001b[0m                         Traceback (most recent call last)",
            "\u001b[0;32m<ipython-input-7-76b18b99c0be>\u001b[0m in \u001b[0;36m<cell line: 16>\u001b[0;34m()\u001b[0m\n\u001b[1;32m     14\u001b[0m     \u001b[0;32mreturn\u001b[0m \u001b[0mprocessed_files\u001b[0m\u001b[0;34m\u001b[0m\u001b[0;34m\u001b[0m\u001b[0m\n\u001b[1;32m     15\u001b[0m \u001b[0;34m\u001b[0m\u001b[0m\n\u001b[0;32m---> 16\u001b[0;31m \u001b[0mtrain\u001b[0m \u001b[0;34m=\u001b[0m \u001b[0mprocess_files_in_folder\u001b[0m\u001b[0;34m(\u001b[0m\u001b[0;34m'train/chihuahua/'\u001b[0m\u001b[0;34m,\u001b[0m \u001b[0;36m0\u001b[0m\u001b[0;34m)\u001b[0m\u001b[0;34m\u001b[0m\u001b[0;34m\u001b[0m\u001b[0m\n\u001b[0m\u001b[1;32m     17\u001b[0m \u001b[0mtrain\u001b[0m \u001b[0;34m=\u001b[0m \u001b[0mpd\u001b[0m\u001b[0;34m.\u001b[0m\u001b[0mconcat\u001b[0m\u001b[0;34m(\u001b[0m\u001b[0;34m[\u001b[0m\u001b[0mtrain\u001b[0m\u001b[0;34m,\u001b[0m\u001b[0mprocess_files_in_folder\u001b[0m\u001b[0;34m(\u001b[0m\u001b[0;34m'train/muffin/'\u001b[0m\u001b[0;34m,\u001b[0m \u001b[0;36m1\u001b[0m\u001b[0;34m)\u001b[0m\u001b[0;34m]\u001b[0m\u001b[0;34m)\u001b[0m\u001b[0;34m\u001b[0m\u001b[0;34m\u001b[0m\u001b[0m\n\u001b[1;32m     18\u001b[0m \u001b[0mtrain\u001b[0m \u001b[0;34m=\u001b[0m \u001b[0mpd\u001b[0m\u001b[0;34m.\u001b[0m\u001b[0mconcat\u001b[0m\u001b[0;34m(\u001b[0m\u001b[0;34m[\u001b[0m\u001b[0mtrain\u001b[0m\u001b[0;34m,\u001b[0m\u001b[0mprocess_files_in_folder\u001b[0m\u001b[0;34m(\u001b[0m\u001b[0;34m'test/chihuahua/'\u001b[0m\u001b[0;34m,\u001b[0m \u001b[0;36m0\u001b[0m\u001b[0;34m)\u001b[0m\u001b[0;34m]\u001b[0m\u001b[0;34m)\u001b[0m\u001b[0;34m\u001b[0m\u001b[0;34m\u001b[0m\u001b[0m\n",
            "\u001b[0;32m<ipython-input-7-76b18b99c0be>\u001b[0m in \u001b[0;36mprocess_files_in_folder\u001b[0;34m(folder_path, label)\u001b[0m\n\u001b[1;32m      5\u001b[0m     \u001b[0mimages\u001b[0m \u001b[0;34m=\u001b[0m \u001b[0;34m[\u001b[0m\u001b[0;34m]\u001b[0m\u001b[0;34m\u001b[0m\u001b[0;34m\u001b[0m\u001b[0m\n\u001b[1;32m      6\u001b[0m     \u001b[0mlabels\u001b[0m \u001b[0;34m=\u001b[0m \u001b[0;34m[\u001b[0m\u001b[0;34m]\u001b[0m\u001b[0;34m\u001b[0m\u001b[0;34m\u001b[0m\u001b[0m\n\u001b[0;32m----> 7\u001b[0;31m     \u001b[0;32mfor\u001b[0m \u001b[0mfilename\u001b[0m \u001b[0;32min\u001b[0m \u001b[0mos\u001b[0m\u001b[0;34m.\u001b[0m\u001b[0mlistdir\u001b[0m\u001b[0;34m(\u001b[0m\u001b[0mfolder_path\u001b[0m\u001b[0;34m)\u001b[0m\u001b[0;34m:\u001b[0m\u001b[0;34m\u001b[0m\u001b[0;34m\u001b[0m\u001b[0m\n\u001b[0m\u001b[1;32m      8\u001b[0m         \u001b[0;32mif\u001b[0m \u001b[0mfilename\u001b[0m\u001b[0;34m.\u001b[0m\u001b[0mendswith\u001b[0m\u001b[0;34m(\u001b[0m\u001b[0;34m'.jpg'\u001b[0m\u001b[0;34m)\u001b[0m\u001b[0;34m:\u001b[0m\u001b[0;34m\u001b[0m\u001b[0;34m\u001b[0m\u001b[0m\n\u001b[1;32m      9\u001b[0m             \u001b[0mlabels\u001b[0m\u001b[0;34m.\u001b[0m\u001b[0mappend\u001b[0m\u001b[0;34m(\u001b[0m\u001b[0mlabel\u001b[0m\u001b[0;34m)\u001b[0m\u001b[0;34m\u001b[0m\u001b[0;34m\u001b[0m\u001b[0m\n",
            "\u001b[0;31mFileNotFoundError\u001b[0m: [Errno 2] No such file or directory: 'train/chihuahua/'"
          ]
        }
      ]
    },
    {
      "cell_type": "code",
      "source": [
        "#Convert To Numpy\n",
        "train_data = np.stack(train['image'].to_list(),axis = 0)\n",
        "train_targets = np.stack(train['label'].to_list(),axis = 0)\n",
        "#Save Numpy to file for faster loading later\n",
        "h5f = h5py.File('image_data.h5', 'w')\n",
        "h5f.create_dataset('train_data', data=train_data)\n",
        "h5f.create_dataset('train_targets', data=train_targets)\n",
        "h5f.close()\n",
        "del train\n",
        "shutil.copy('image_data.h5', 'drive/MyDrive/Uncertanty/image_data.h5')"
      ],
      "metadata": {
        "colab": {
          "base_uri": "https://localhost:8080/",
          "height": 55
        },
        "id": "8XKtmi05qeh6",
        "outputId": "114b007a-1f1a-4193-ab14-6894da83d61a"
      },
      "execution_count": 9,
      "outputs": [
        {
          "output_type": "execute_result",
          "data": {
            "text/plain": [
              "'drive/MyDrive/Uncertanty/image_data.h5'"
            ],
            "application/vnd.google.colaboratory.intrinsic+json": {
              "type": "string"
            }
          },
          "metadata": {},
          "execution_count": 9
        }
      ]
    },
    {
      "cell_type": "code",
      "source": [
        "shutil.copy('drive/MyDrive/Uncertanty/image_data.h5', '.')\n",
        "h5f = h5py.File('image_data.h5', 'r')\n",
        "train = h5f['train_data'][:]\n",
        "targets = h5f['train_targets'][:]\n",
        "h5f.close()\n",
        "#Split the data into training and validation sets\n",
        "train_data, val_data, train_targets, val_targets = train_test_split(train, targets, test_size=0.2, random_state=42)\n",
        "\n"
      ],
      "metadata": {
        "id": "LPeC_GVRbvRi"
      },
      "execution_count": 10,
      "outputs": []
    },
    {
      "cell_type": "markdown",
      "source": [
        "# EDA"
      ],
      "metadata": {
        "id": "CdrvK9uQhJg4"
      }
    },
    {
      "cell_type": "code",
      "source": [
        "print(train_data.shape)"
      ],
      "metadata": {
        "colab": {
          "base_uri": "https://localhost:8080/"
        },
        "id": "ohPY1XPthQUV",
        "outputId": "1f307178-ff8c-439b-ab24-216c81b8fabe"
      },
      "execution_count": 11,
      "outputs": [
        {
          "output_type": "stream",
          "name": "stdout",
          "text": [
            "(12, 169, 169, 3)\n"
          ]
        }
      ]
    },
    {
      "cell_type": "markdown",
      "source": [
        "# Initial Model\n",
        "This model is a very simple CNN used to creat the uncertanty.  While performance will be shown, it will not be optomized, but used as a follow on to determine uncertanty. Layers will be Normalization-Conv2d-Conv2d-MaxPool-Conv2D-Conv2d-MaxPool-Dense\n",
        "\n"
      ],
      "metadata": {
        "id": "I0o2D1mBhQxo"
      }
    },
    {
      "cell_type": "code",
      "source": [
        "resolver = tf.distribute.cluster_resolver.TPUClusterResolver()\n",
        "tf.config.experimental_connect_to_cluster(resolver)\n",
        "# This is the TPU initialization code that has to be at the beginning.\n",
        "tf.tpu.experimental.initialize_tpu_system(resolver)\n",
        "print(\"All devices: \", tf.config.list_logical_devices('TPU'))\n",
        "strategy = tf.distribute.experimental.TPUStrategy(resolver)"
      ],
      "metadata": {
        "colab": {
          "base_uri": "https://localhost:8080/"
        },
        "id": "TN5uGXbUksFX",
        "outputId": "ab556bcd-1996-482c-cbe1-8af0b33c2164"
      },
      "execution_count": 12,
      "outputs": [
        {
          "output_type": "stream",
          "name": "stderr",
          "text": [
            "WARNING:absl:`tf.distribute.experimental.TPUStrategy` is deprecated, please use the non-experimental symbol `tf.distribute.TPUStrategy` instead.\n"
          ]
        },
        {
          "output_type": "stream",
          "name": "stdout",
          "text": [
            "All devices:  [LogicalDevice(name='/device:TPU:0', device_type='TPU'), LogicalDevice(name='/device:TPU:1', device_type='TPU'), LogicalDevice(name='/device:TPU:2', device_type='TPU'), LogicalDevice(name='/device:TPU:3', device_type='TPU'), LogicalDevice(name='/device:TPU:4', device_type='TPU'), LogicalDevice(name='/device:TPU:5', device_type='TPU'), LogicalDevice(name='/device:TPU:6', device_type='TPU'), LogicalDevice(name='/device:TPU:7', device_type='TPU')]\n"
          ]
        }
      ]
    },
    {
      "cell_type": "code",
      "source": [
        "\n",
        "with strategy.scope():\n",
        "  inputs = keras.Input(shape=(imagesize,imagesize,3))\n",
        "  x = keras.layers.Normalization()(inputs)\n",
        "  x = keras.layers.Conv2D(filters=32, kernel_size=3, activation='relu')(x)\n",
        "  x = keras.layers.Conv2D(filters=64, kernel_size=3, activation='relu')(x)\n",
        "  x = keras.layers.MaxPool2D(pool_size=2)(x)\n",
        "  x = keras.layers.Conv2D(filters=128, kernel_size=3, activation='relu')(x)\n",
        "  x = keras.layers.Conv2D(filters=256, kernel_size=3, activation='relu')(x)\n",
        "  x = keras.layers.MaxPool2D(pool_size=2)(x)\n",
        "  x = keras.layers.Flatten()(x)\n",
        "  outputs = keras.layers.Dense(1, activation='sigmoid')(x)\n",
        "  model = keras.Model(inputs=inputs, outputs=outputs)\n",
        "  model.compile(optimizer='adam', loss='binary_crossentropy', metrics=['accuracy'])\n",
        "  model.summary()"
      ],
      "metadata": {
        "colab": {
          "base_uri": "https://localhost:8080/"
        },
        "id": "rcAD9Su0he_u",
        "outputId": "bb4950af-93f8-4aae-9040-dac6af9c7e88"
      },
      "execution_count": 13,
      "outputs": [
        {
          "output_type": "stream",
          "name": "stdout",
          "text": [
            "Model: \"model\"\n",
            "_________________________________________________________________\n",
            " Layer (type)                Output Shape              Param #   \n",
            "=================================================================\n",
            " input_1 (InputLayer)        [(None, 169, 169, 3)]     0         \n",
            "                                                                 \n",
            " normalization (Normalizati  (None, 169, 169, 3)       7         \n",
            " on)                                                             \n",
            "                                                                 \n",
            " conv2d (Conv2D)             (None, 167, 167, 32)      896       \n",
            "                                                                 \n",
            " conv2d_1 (Conv2D)           (None, 165, 165, 64)      18496     \n",
            "                                                                 \n",
            " max_pooling2d (MaxPooling2  (None, 82, 82, 64)        0         \n",
            " D)                                                              \n",
            "                                                                 \n",
            " conv2d_2 (Conv2D)           (None, 80, 80, 128)       73856     \n",
            "                                                                 \n",
            " conv2d_3 (Conv2D)           (None, 78, 78, 256)       295168    \n",
            "                                                                 \n",
            " max_pooling2d_1 (MaxPoolin  (None, 39, 39, 256)       0         \n",
            " g2D)                                                            \n",
            "                                                                 \n",
            " flatten (Flatten)           (None, 389376)            0         \n",
            "                                                                 \n",
            " dense (Dense)               (None, 1)                 389377    \n",
            "                                                                 \n",
            "=================================================================\n",
            "Total params: 777800 (2.97 MB)\n",
            "Trainable params: 777793 (2.97 MB)\n",
            "Non-trainable params: 7 (32.00 Byte)\n",
            "_________________________________________________________________\n"
          ]
        }
      ]
    },
    {
      "cell_type": "code",
      "source": [
        "history = model.fit(train_data, train_targets, epochs=10, batch_size=2, validation_data=(val_data, val_targets), verbose = 0)\n",
        "model.save('drive/MyDrive/Uncertanty/model1.keras')"
      ],
      "metadata": {
        "id": "_0kwuxIcjlDM"
      },
      "execution_count": 14,
      "outputs": []
    },
    {
      "cell_type": "code",
      "source": [],
      "metadata": {
        "id": "Gdcc5nwPpk2B"
      },
      "execution_count": 14,
      "outputs": []
    },
    {
      "cell_type": "code",
      "source": [
        "model = keras.models.load_model('drive/MyDrive/Uncertanty/model1.keras')"
      ],
      "metadata": {
        "id": "iejPEiyrqaBQ"
      },
      "execution_count": 15,
      "outputs": []
    },
    {
      "cell_type": "code",
      "source": [
        "predict = model.predict(val_data)\n",
        "sns.heatmap(confusion_matrix(val_targets, predict.round()), annot=True, fmt='d')\n"
      ],
      "metadata": {
        "colab": {
          "base_uri": "https://localhost:8080/",
          "height": 490
        },
        "id": "GJKf2mUnsWi6",
        "outputId": "fda7d1f8-0215-4256-f396-c5c065794dbe"
      },
      "execution_count": 16,
      "outputs": [
        {
          "output_type": "stream",
          "name": "stdout",
          "text": [
            "1/1 [==============================] - 0s 180ms/step\n"
          ]
        },
        {
          "output_type": "execute_result",
          "data": {
            "text/plain": [
              "<Axes: >"
            ]
          },
          "metadata": {},
          "execution_count": 16
        },
        {
          "output_type": "display_data",
          "data": {
            "text/plain": [
              "<Figure size 640x480 with 2 Axes>"
            ],
            "image/png": "[encoded data removed]"
          },
          "metadata": {}
        }
      ]
    },
    {
      "cell_type": "code",
      "source": [],
      "metadata": {
        "id": "IbfCnkSAeKZs"
      },
      "execution_count": 16,
      "outputs": []
    },
    {
      "cell_type": "markdown",
      "source": [
        "# Quantifying Uncertanty\n",
        "There are several ways to quantify uncertanty.  \n",
        "\n",
        "https://imerit.net/blog/a-comprehensive-introduction-to-uncertainty-in-machine-learning-all-una/\n",
        "\n",
        "## Monte Carlo Dropout\n",
        "The Monte Carlo method uses random probablities to find the uncertanty.  The Monte Carlo Dropout, uses psudo-random dropouts to create a set of models.  This set of similiar models can be run forward to calculate and analyze the uncertanty.\n",
        "\n",
        "## Deep Ensembles\n",
        "Like forrests of trees, this network trains muliple models and caluclates the uncertatny based on the drift between those varied models.  This can do a better job of quantifying uncertanty.  \n",
        "\n",
        "## Deep Bayesian Active Learning (DBAL)\n",
        "The baysean Method changes the dese blocks to a Baysean Neural Network.  This allows probabilities to be calculated.\n",
        "\n",
        "# Going Forward\n",
        "I wll be using the Monte Carlo Dropout and Deep Baysean Active Learning to calculte the uncertanty.  Deep Ensambles took too long to train the model ensamble."
      ],
      "metadata": {
        "id": "QmEQBVOthfXH"
      }
    },
    {
      "cell_type": "code",
      "source": [],
      "metadata": {
        "id": "NzfE6ck0eG_w"
      },
      "execution_count": 16,
      "outputs": []
    },
    {
      "cell_type": "markdown",
      "source": [
        "# Monte Carlo Dropout\n",
        "To create a Monte Carlo Dropout, take the mode and add dropout layers into them.  There are 3 parts to creating a monte-carlo droput model.  The first is to add dropout layers.  I will add one after each pooling layer.  The second is to have the model use the dropout layer when performing the predict.  The third is to run predict many times to see the variation of different runs with different dropouts."
      ],
      "metadata": {
        "id": "KPvGxceLzEsA"
      }
    },
    {
      "cell_type": "code",
      "source": [
        "with strategy.scope():\n",
        "  inputs = keras.Input(shape=(imagesize,imagesize,3))\n",
        "  x = keras.layers.Normalization()(inputs)\n",
        "  x = keras.layers.Conv2D(filters=32, kernel_size=3, activation='relu')(x)\n",
        "  x = keras.layers.Conv2D(filters=64, kernel_size=3, activation='relu')(x)\n",
        "  x = keras.layers.MaxPool2D(pool_size=2)(x)\n",
        "  x = keras.layers.Dropout(0.5)(x)\n",
        "  x = keras.layers.Conv2D(filters=128, kernel_size=3, activation='relu')(x)\n",
        "  x = keras.layers.Conv2D(filters=256, kernel_size=3, activation='relu')(x)\n",
        "  x = keras.layers.MaxPool2D(pool_size=2)(x)\n",
        "  x = keras.layers.Dropout(0.5)(x)\n",
        "  x = keras.layers.Flatten()(x)\n",
        "  outputs = keras.layers.Dense(1, activation='sigmoid')(x)\n",
        "  model = keras.Model(inputs=inputs, outputs=outputs)\n",
        "  model.compile(optimizer='adam', loss='binary_crossentropy', metrics=['accuracy'])\n",
        "  model.summary()\n",
        "history = model.fit(train_data, train_targets, epochs=10, batch_size=2, validation_data=(val_data, val_targets), verbose = 0)\n",
        "predict = model.predict(val_data)\n",
        "sns.heatmap(confusion_matrix(val_targets, predict.round()), annot=True, fmt='d')\n",
        "# Results to keep the uncertanty results\n",
        "unified_results = pd.DataFrame('uncertanty_type', 'data')"
      ],
      "metadata": {
        "id": "B-CpGxdlh7Ym",
        "colab": {
          "base_uri": "https://localhost:8080/"
        },
        "outputId": "f3761508-fcf1-4a05-fe03-6437f530cae3"
      },
      "execution_count": null,
      "outputs": [
        {
          "output_type": "stream",
          "name": "stdout",
          "text": [
            "Model: \"model_1\"\n",
            "_________________________________________________________________\n",
            " Layer (type)                Output Shape              Param #   \n",
            "=================================================================\n",
            " input_2 (InputLayer)        [(None, 169, 169, 3)]     0         \n",
            "                                                                 \n",
            " normalization_1 (Normaliza  (None, 169, 169, 3)       7         \n",
            " tion)                                                           \n",
            "                                                                 \n",
            " conv2d_4 (Conv2D)           (None, 167, 167, 32)      896       \n",
            "                                                                 \n",
            " conv2d_5 (Conv2D)           (None, 165, 165, 64)      18496     \n",
            "                                                                 \n",
            " max_pooling2d_2 (MaxPoolin  (None, 82, 82, 64)        0         \n",
            " g2D)                                                            \n",
            "                                                                 \n",
            " dropout (Dropout)           (None, 82, 82, 64)        0         \n",
            "                                                                 \n",
            " conv2d_6 (Conv2D)           (None, 80, 80, 128)       73856     \n",
            "                                                                 \n",
            " conv2d_7 (Conv2D)           (None, 78, 78, 256)       295168    \n",
            "                                                                 \n",
            " max_pooling2d_3 (MaxPoolin  (None, 39, 39, 256)       0         \n",
            " g2D)                                                            \n",
            "                                                                 \n",
            " dropout_1 (Dropout)         (None, 39, 39, 256)       0         \n",
            "                                                                 \n",
            " flatten_1 (Flatten)         (None, 389376)            0         \n",
            "                                                                 \n",
            " dense_1 (Dense)             (None, 1)                 389377    \n",
            "                                                                 \n",
            "=================================================================\n",
            "Total params: 777800 (2.97 MB)\n",
            "Trainable params: 777793 (2.97 MB)\n",
            "Non-trainable params: 7 (32.00 Byte)\n",
            "_________________________________________________________________\n"
          ]
        }
      ]
    },
    {
      "cell_type": "code",
      "source": [
        "uncertain_samples = np.stack([model(val_data,training=True)\n",
        "                   for sample in range(100)])\n",
        "unified_results = unified_results.append({'uncertainty_type': 'Monte-Carlo', 'data': uncertain_samples}, ignore_index=True)\n",
        "mean = uncertain_samples.mean(axis=0)\n",
        "std = uncertain_samples.std(axis=0)\n",
        "fig, ax = plt.subplots(1, 2, figsize=(10, 5))\n",
        "ax[0].hist(mean)\n",
        "ax[0].set_title('Mean')\n",
        "ax[1].hist(std)\n",
        "ax[1].set_title('Standard Deviation')\n",
        "plt.show()"
      ],
      "metadata": {
        "id": "lgmEKfahhU23"
      },
      "execution_count": null,
      "outputs": []
    },
    {
      "cell_type": "markdown",
      "source": [
        "# Histogram Uncertanty Results"
      ],
      "metadata": {
        "id": "BF_CELX1jWan"
      }
    },
    {
      "cell_type": "markdown",
      "source": [
        "# Baysean Uncertanty\n",
        "To calculate Baysean Uncertancy, I will repalce the Conv2D and Dense Layers with TensorFlow Probability Blocks that will store baysean uncertanty.  I will also switch the loss funcion to a function that will handle uncertanty."
      ],
      "metadata": {
        "id": "JeKsRMgqjaAT"
      }
    },
    {
      "cell_type": "code",
      "source": [
        "import tensorflow_probability as tfp\n",
        "def sparse_categorical_crossentropy(labels, logits):\n",
        "    return tf.nn.sparse_softmax_cross_entropy_with_logits(labels=labels, logits=logits)\n",
        "with strategy.scope():\n",
        "  inputs = keras.Input(shape=(imagesize,imagesize,3))\n",
        "  x = keras.layers.Normalization()(inputs)\n",
        "  x = tfp.layers.Convolution2DFlipout(filters=32, kernel_size=3, activation='relu')(x)\n",
        "  x = tfp.layers.Convolution2DFlipout(filters=64, kernel_size=3, activation='relu')(x)\n",
        "  x = keras.layers.MaxPool2D(pool_size=2)(x)\n",
        "  x = tfp.layers.Convolution2DFlipout(filters=128, kernel_size=3, activation='relu')(x)\n",
        "  x = tfp.layers.Convolution2DFlipout(filters=256, kernel_size=3, activation='relu')(x)\n",
        "  x = keras.layers.MaxPool2D(pool_size=2)(x)\n",
        "  x = keras.layers.Flatten()(x)\n",
        "  outputs = tfp.layers.DenseFlipout(1, activation='relu')(x)\n",
        "  model = keras.Model(inputs=inputs, outputs=outputs)\n",
        "  model.compile(optimizer='adam', loss=keras.losses.SparseCategoricalCrossentropy(from_logits=True), metrics=['accuracy'])\n",
        "  model.summary()\n",
        "history = model.fit(train_data, train_targets, epochs=10, batch_size=2, validation_data=(val_data, val_targets), verbose = 0)\n",
        "predict = model.predict(val_data)\n",
        "sns.heatmap(confusion_matrix(val_targets, predict.round()), annot=True, fmt='d')"
      ],
      "metadata": {
        "id": "ysIZhCi7jZgw"
      },
      "execution_count": null,
      "outputs": []
    }
  ]
}